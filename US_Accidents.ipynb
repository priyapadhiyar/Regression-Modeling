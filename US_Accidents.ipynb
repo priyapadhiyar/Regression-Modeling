{
 "cells": [
  {
   "cell_type": "markdown",
   "metadata": {},
   "source": [
    "# Import the dataset\n"
   ]
  },
  {
   "cell_type": "code",
   "execution_count": 1,
   "metadata": {},
   "outputs": [],
   "source": [
    "import pandas as pd\n",
    "import numpy as np\n",
    "import matplotlib\n",
    "import seaborn as sns\n",
    "%matplotlib inline\n",
    "from sklearn.preprocessing import LabelEncoder"
   ]
  },
  {
   "cell_type": "code",
   "execution_count": 2,
   "metadata": {},
   "outputs": [
    {
     "data": {
      "text/html": [
       "<div>\n",
       "<style scoped>\n",
       "    .dataframe tbody tr th:only-of-type {\n",
       "        vertical-align: middle;\n",
       "    }\n",
       "\n",
       "    .dataframe tbody tr th {\n",
       "        vertical-align: top;\n",
       "    }\n",
       "\n",
       "    .dataframe thead th {\n",
       "        text-align: right;\n",
       "    }\n",
       "</style>\n",
       "<table border=\"1\" class=\"dataframe\">\n",
       "  <thead>\n",
       "    <tr style=\"text-align: right;\">\n",
       "      <th></th>\n",
       "      <th>ID</th>\n",
       "      <th>Source</th>\n",
       "      <th>TMC</th>\n",
       "      <th>Severity</th>\n",
       "      <th>Start_Time</th>\n",
       "      <th>End_Time</th>\n",
       "      <th>Start_Lat</th>\n",
       "      <th>Start_Lng</th>\n",
       "      <th>End_Lat</th>\n",
       "      <th>End_Lng</th>\n",
       "      <th>...</th>\n",
       "      <th>Roundabout</th>\n",
       "      <th>Station</th>\n",
       "      <th>Stop</th>\n",
       "      <th>Traffic_Calming</th>\n",
       "      <th>Traffic_Signal</th>\n",
       "      <th>Turning_Loop</th>\n",
       "      <th>Sunrise_Sunset</th>\n",
       "      <th>Civil_Twilight</th>\n",
       "      <th>Nautical_Twilight</th>\n",
       "      <th>Astronomical_Twilight</th>\n",
       "    </tr>\n",
       "  </thead>\n",
       "  <tbody>\n",
       "    <tr>\n",
       "      <th>0</th>\n",
       "      <td>A-1</td>\n",
       "      <td>MapQuest</td>\n",
       "      <td>201.0</td>\n",
       "      <td>3</td>\n",
       "      <td>2016-02-08 05:46:00</td>\n",
       "      <td>2016-02-08 11:00:00</td>\n",
       "      <td>39.865147</td>\n",
       "      <td>-84.058723</td>\n",
       "      <td>NaN</td>\n",
       "      <td>NaN</td>\n",
       "      <td>...</td>\n",
       "      <td>False</td>\n",
       "      <td>False</td>\n",
       "      <td>False</td>\n",
       "      <td>False</td>\n",
       "      <td>False</td>\n",
       "      <td>False</td>\n",
       "      <td>Night</td>\n",
       "      <td>Night</td>\n",
       "      <td>Night</td>\n",
       "      <td>Night</td>\n",
       "    </tr>\n",
       "    <tr>\n",
       "      <th>1</th>\n",
       "      <td>A-2</td>\n",
       "      <td>MapQuest</td>\n",
       "      <td>201.0</td>\n",
       "      <td>2</td>\n",
       "      <td>2016-02-08 06:07:59</td>\n",
       "      <td>2016-02-08 06:37:59</td>\n",
       "      <td>39.928059</td>\n",
       "      <td>-82.831184</td>\n",
       "      <td>NaN</td>\n",
       "      <td>NaN</td>\n",
       "      <td>...</td>\n",
       "      <td>False</td>\n",
       "      <td>False</td>\n",
       "      <td>False</td>\n",
       "      <td>False</td>\n",
       "      <td>False</td>\n",
       "      <td>False</td>\n",
       "      <td>Night</td>\n",
       "      <td>Night</td>\n",
       "      <td>Night</td>\n",
       "      <td>Day</td>\n",
       "    </tr>\n",
       "    <tr>\n",
       "      <th>2</th>\n",
       "      <td>A-3</td>\n",
       "      <td>MapQuest</td>\n",
       "      <td>201.0</td>\n",
       "      <td>2</td>\n",
       "      <td>2016-02-08 06:49:27</td>\n",
       "      <td>2016-02-08 07:19:27</td>\n",
       "      <td>39.063148</td>\n",
       "      <td>-84.032608</td>\n",
       "      <td>NaN</td>\n",
       "      <td>NaN</td>\n",
       "      <td>...</td>\n",
       "      <td>False</td>\n",
       "      <td>False</td>\n",
       "      <td>False</td>\n",
       "      <td>False</td>\n",
       "      <td>True</td>\n",
       "      <td>False</td>\n",
       "      <td>Night</td>\n",
       "      <td>Night</td>\n",
       "      <td>Day</td>\n",
       "      <td>Day</td>\n",
       "    </tr>\n",
       "    <tr>\n",
       "      <th>3</th>\n",
       "      <td>A-4</td>\n",
       "      <td>MapQuest</td>\n",
       "      <td>201.0</td>\n",
       "      <td>3</td>\n",
       "      <td>2016-02-08 07:23:34</td>\n",
       "      <td>2016-02-08 07:53:34</td>\n",
       "      <td>39.747753</td>\n",
       "      <td>-84.205582</td>\n",
       "      <td>NaN</td>\n",
       "      <td>NaN</td>\n",
       "      <td>...</td>\n",
       "      <td>False</td>\n",
       "      <td>False</td>\n",
       "      <td>False</td>\n",
       "      <td>False</td>\n",
       "      <td>False</td>\n",
       "      <td>False</td>\n",
       "      <td>Night</td>\n",
       "      <td>Day</td>\n",
       "      <td>Day</td>\n",
       "      <td>Day</td>\n",
       "    </tr>\n",
       "    <tr>\n",
       "      <th>4</th>\n",
       "      <td>A-5</td>\n",
       "      <td>MapQuest</td>\n",
       "      <td>201.0</td>\n",
       "      <td>2</td>\n",
       "      <td>2016-02-08 07:39:07</td>\n",
       "      <td>2016-02-08 08:09:07</td>\n",
       "      <td>39.627781</td>\n",
       "      <td>-84.188354</td>\n",
       "      <td>NaN</td>\n",
       "      <td>NaN</td>\n",
       "      <td>...</td>\n",
       "      <td>False</td>\n",
       "      <td>False</td>\n",
       "      <td>False</td>\n",
       "      <td>False</td>\n",
       "      <td>True</td>\n",
       "      <td>False</td>\n",
       "      <td>Day</td>\n",
       "      <td>Day</td>\n",
       "      <td>Day</td>\n",
       "      <td>Day</td>\n",
       "    </tr>\n",
       "  </tbody>\n",
       "</table>\n",
       "<p>5 rows × 49 columns</p>\n",
       "</div>"
      ],
      "text/plain": [
       "    ID    Source    TMC  Severity           Start_Time             End_Time  \\\n",
       "0  A-1  MapQuest  201.0         3  2016-02-08 05:46:00  2016-02-08 11:00:00   \n",
       "1  A-2  MapQuest  201.0         2  2016-02-08 06:07:59  2016-02-08 06:37:59   \n",
       "2  A-3  MapQuest  201.0         2  2016-02-08 06:49:27  2016-02-08 07:19:27   \n",
       "3  A-4  MapQuest  201.0         3  2016-02-08 07:23:34  2016-02-08 07:53:34   \n",
       "4  A-5  MapQuest  201.0         2  2016-02-08 07:39:07  2016-02-08 08:09:07   \n",
       "\n",
       "   Start_Lat  Start_Lng  End_Lat  End_Lng  ...  Roundabout Station   Stop  \\\n",
       "0  39.865147 -84.058723      NaN      NaN  ...       False   False  False   \n",
       "1  39.928059 -82.831184      NaN      NaN  ...       False   False  False   \n",
       "2  39.063148 -84.032608      NaN      NaN  ...       False   False  False   \n",
       "3  39.747753 -84.205582      NaN      NaN  ...       False   False  False   \n",
       "4  39.627781 -84.188354      NaN      NaN  ...       False   False  False   \n",
       "\n",
       "  Traffic_Calming Traffic_Signal Turning_Loop Sunrise_Sunset Civil_Twilight  \\\n",
       "0           False          False        False          Night          Night   \n",
       "1           False          False        False          Night          Night   \n",
       "2           False           True        False          Night          Night   \n",
       "3           False          False        False          Night            Day   \n",
       "4           False           True        False            Day            Day   \n",
       "\n",
       "  Nautical_Twilight Astronomical_Twilight  \n",
       "0             Night                 Night  \n",
       "1             Night                   Day  \n",
       "2               Day                   Day  \n",
       "3               Day                   Day  \n",
       "4               Day                   Day  \n",
       "\n",
       "[5 rows x 49 columns]"
      ]
     },
     "execution_count": 2,
     "metadata": {},
     "output_type": "execute_result"
    }
   ],
   "source": [
    "import pandas as pd\n",
    "df = pd.read_csv('/Users/priya/US_Accidents.csv', encoding='utf-8')\n",
    "df.head()"
   ]
  },
  {
   "cell_type": "markdown",
   "metadata": {},
   "source": [
    "# About the Dataset:\n",
    "\n",
    "Source data used for the analysis is collection of all the realtime traffic accidents reported by number of traffic monitoring APIs over the period from Feb 2016 till Dec 2020. There are 4.2 million accident records in the dataset and 49 columns contributing to variety of information of each accidents.\n",
    "\n",
    "For understanding the data better and for further analysis , I have all classified all the features from the data into below subject categories:\n",
    "\n",
    "### Record/source API identifiers :\n",
    "\n",
    "    ID, Source, TMC \n",
    "\n",
    "### Accident properties :\n",
    "\n",
    "    Severity, Start_Time, End_Time, Start_Lat, Start_Lng, End_Lat, End_Lng, Distance(mi)\n",
    "\n",
    "### Location properties :\n",
    "\n",
    "    Description, Number, Street, Side, City, County, State, Zipcode, Country, Timezone, Airport_Code, \n",
    "\n",
    "### Weather Condition Properties :\n",
    "\n",
    "    Weather_Timestamp, Temperature(F), Wind_Chill(F), Humidity(%), Pressure(in), Visibility(mi), Wind_Direction, Wind_Speed(mph), Precipitation(in), Weather_Condition, Sunrise_Sunset, Civil_Twilight, Nautical_Twilight, Astronomical_Twilight\n",
    "\n",
    "### Nearby landmark properties :\n",
    "\n",
    "    Amenity, Bump, Crossing, Give_Way, Junction, No_Exit, Railway, Roundabout, Station, Stop, Traffic_Calming, Traffic_Signal, Turning_Loop,\n"
   ]
  },
  {
   "cell_type": "markdown",
   "metadata": {},
   "source": [
    "## Clean the Dataset"
   ]
  },
  {
   "cell_type": "code",
   "execution_count": 3,
   "metadata": {},
   "outputs": [],
   "source": [
    "#A reusable function to run on any dataframe to perform quick basic sanity of the data.\n",
    "from pprint import pprint\n",
    "def sanity_check(df):\n",
    "    pprint('-'*70)\n",
    "    pprint('No. of Row : {0[0]}        No. of Columns : {0[1]}'.format(df.shape))\n",
    "    pprint('-'*70)\n",
    "    data_profile = pd.DataFrame(df.dtypes.reset_index()).rename(columns = {'index' : 'Attribute' ,\n",
    "                                                                           0 : 'DataType'}).set_index('Attribute')\n",
    "    data_profile = pd.concat([data_profile,df.isnull().sum()], axis=1).rename(columns = {0 : 'Missing Values'})\n",
    "    data_profile = pd.concat([data_profile,df.nunique()], axis=1).rename(columns = {0 : 'Unique Values'})\n",
    "    pprint(data_profile)\n",
    "    pprint('-'*70)"
   ]
  },
  {
   "cell_type": "code",
   "execution_count": 4,
   "metadata": {},
   "outputs": [
    {
     "name": "stdout",
     "output_type": "stream",
     "text": [
      "'----------------------------------------------------------------------'\n",
      "'No. of Row : 4232541        No. of Columns : 49'\n",
      "'----------------------------------------------------------------------'\n",
      "                      DataType  Missing Values  Unique Values\n",
      "Attribute                                                    \n",
      "ID                      object               0        4232541\n",
      "Source                  object               0              3\n",
      "TMC                    float64         1516064             21\n",
      "Severity                 int64               0              4\n",
      "Start_Time              object               0        3657563\n",
      "End_Time                object               0        3775982\n",
      "Start_Lat              float64               0        1371599\n",
      "Start_Lng              float64               0        1371288\n",
      "End_Lat                float64         2716477         587824\n",
      "End_Lng                float64         2716477         599916\n",
      "Distance(mi)           float64               0          14619\n",
      "Description             object               2        2166721\n",
      "Number                 float64         2687949          43868\n",
      "Street                  object               0         210786\n",
      "Side                    object               0              3\n",
      "City                    object             137          12250\n",
      "County                  object               0           1752\n",
      "State                   object               0             49\n",
      "Zipcode                 object            1292         494306\n",
      "Country                 object               0              1\n",
      "Timezone                object            4615              4\n",
      "Airport_Code            object            8973           2022\n",
      "Weather_Timestamp       object           62644         616787\n",
      "Temperature(F)         float64           89900            840\n",
      "Wind_Chill(F)          float64         1896001            984\n",
      "Humidity(%)            float64           95467            100\n",
      "Pressure(in)           float64           76384           1041\n",
      "Visibility(mi)         float64           98668             87\n",
      "Wind_Direction          object           83611             24\n",
      "Wind_Speed(mph)        float64          479326            162\n",
      "Precipitation(in)      float64         2065589            269\n",
      "Weather_Condition       object           98383            131\n",
      "Amenity                   bool               0              2\n",
      "Bump                      bool               0              2\n",
      "Crossing                  bool               0              2\n",
      "Give_Way                  bool               0              2\n",
      "Junction                  bool               0              2\n",
      "No_Exit                   bool               0              2\n",
      "Railway                   bool               0              2\n",
      "Roundabout                bool               0              2\n",
      "Station                   bool               0              2\n",
      "Stop                      bool               0              2\n",
      "Traffic_Calming           bool               0              2\n",
      "Traffic_Signal            bool               0              2\n",
      "Turning_Loop              bool               0              1\n",
      "Sunrise_Sunset          object             141              2\n",
      "Civil_Twilight          object             141              2\n",
      "Nautical_Twilight       object             141              2\n",
      "Astronomical_Twilight   object             141              2\n",
      "'----------------------------------------------------------------------'\n"
     ]
    }
   ],
   "source": [
    "sanity_check(df)"
   ]
  },
  {
   "cell_type": "code",
   "execution_count": 5,
   "metadata": {},
   "outputs": [
    {
     "data": {
      "text/plain": [
       "array(['Light Rain', 'Overcast', 'Mostly Cloudy', 'Rain', 'Light Snow',\n",
       "       'Haze', 'Scattered Clouds', 'Partly Cloudy', 'Clear', 'Snow',\n",
       "       'Light Freezing Drizzle', 'Light Drizzle', 'Fog', 'Shallow Fog',\n",
       "       'Heavy Rain', 'Light Freezing Rain', 'Cloudy', 'Drizzle', nan,\n",
       "       'Light Rain Showers', 'Mist', 'Smoke', 'Patches of Fog',\n",
       "       'Light Freezing Fog', 'Light Haze', 'Light Thunderstorms and Rain',\n",
       "       'Thunderstorms and Rain', 'Fair', 'Volcanic Ash', 'Blowing Sand',\n",
       "       'Blowing Dust / Windy', 'Widespread Dust', 'Fair / Windy',\n",
       "       'Rain Showers', 'Mostly Cloudy / Windy', 'Light Rain / Windy',\n",
       "       'Hail', 'Heavy Drizzle', 'Showers in the Vicinity', 'Thunderstorm',\n",
       "       'Light Rain Shower', 'Light Rain with Thunder',\n",
       "       'Partly Cloudy / Windy', 'Thunder in the Vicinity', 'T-Storm',\n",
       "       'Heavy Thunderstorms and Rain', 'Thunder', 'Heavy T-Storm',\n",
       "       'Funnel Cloud', 'Heavy T-Storm / Windy', 'Blowing Snow',\n",
       "       'Light Thunderstorms and Snow', 'Heavy Snow', 'Low Drifting Snow',\n",
       "       'Light Ice Pellets', 'Ice Pellets', 'Squalls', 'N/A Precipitation',\n",
       "       'Cloudy / Windy', 'Light Fog', 'Sand', 'Snow Grains',\n",
       "       'Snow Showers', 'Heavy Thunderstorms and Snow', 'Rain / Windy',\n",
       "       'Heavy Rain / Windy', 'Heavy Ice Pellets', 'Light Snow / Windy',\n",
       "       'Heavy Freezing Rain', 'Small Hail', 'Heavy Rain Showers',\n",
       "       'Wintry Mix', 'Drizzle and Fog', 'Wintry Mix / Windy',\n",
       "       'Snow / Windy', 'Heavy Snow / Windy', 'T-Storm / Windy',\n",
       "       'Fog / Windy', 'Haze / Windy', 'Snow and Sleet / Windy',\n",
       "       'Blowing Snow / Windy', 'Light Snow and Sleet', 'Light Sleet',\n",
       "       'Thunder / Windy', 'Rain Shower', 'Light Drizzle / Windy',\n",
       "       'Partial Fog', 'Squalls / Windy', 'Smoke / Windy',\n",
       "       'Sand / Dust Whirlwinds', 'Blowing Dust',\n",
       "       'Light Snow with Thunder', 'Thunder / Wintry Mix',\n",
       "       'Thunder / Wintry Mix / Windy', 'Light Rain Shower / Windy',\n",
       "       'Patches of Fog / Windy', 'Drizzle / Windy', 'Snow and Sleet',\n",
       "       'Light Freezing Rain / Windy', 'Light Snow Shower',\n",
       "       'Light Snow and Sleet / Windy', 'Freezing Rain',\n",
       "       'Freezing Drizzle', 'Sleet', 'Rain and Sleet', 'Heavy Sleet',\n",
       "       'Light Snow Grains', 'Partial Fog / Windy',\n",
       "       'Widespread Dust / Windy', 'Sand / Dust Whirlwinds / Windy',\n",
       "       'Tornado', 'Snow and Thunder', 'Heavy Snow with Thunder',\n",
       "       'Light Snow Showers', 'Heavy Blowing Snow', 'Light Hail',\n",
       "       'Heavy Smoke', 'Heavy Thunderstorms with Small Hail',\n",
       "       'Light Thunderstorm', 'Heavy Freezing Drizzle',\n",
       "       'Light Blowing Snow', 'Thunderstorms and Snow',\n",
       "       'Freezing Rain / Windy', 'Dust Whirls', 'Light Sleet / Windy',\n",
       "       'Mist / Windy', 'Sleet / Windy', 'Sand / Dust Whirls Nearby',\n",
       "       'Heavy Rain Shower', 'Thunder and Hail', 'Drifting Snow',\n",
       "       'Thunder and Hail / Windy'], dtype=object)"
      ]
     },
     "execution_count": 5,
     "metadata": {},
     "output_type": "execute_result"
    }
   ],
   "source": [
    "df.Weather_Condition.unique()"
   ]
  },
  {
   "cell_type": "markdown",
   "metadata": {},
   "source": [
    "#### Our analysis has more focus on locations and time of the accidents. The columns 'City' has 137 rows null (which is very low compared to total row count). We will remove these rows from dataset\n",
    "Similarly, Sunrise_sunset and Description columns has less than 10 rows with null rows, dropping those rows from dataset."
   ]
  },
  {
   "cell_type": "code",
   "execution_count": 6,
   "metadata": {},
   "outputs": [],
   "source": [
    "df.dropna(subset=['City','Sunrise_Sunset','Description'], inplace=True)"
   ]
  },
  {
   "cell_type": "markdown",
   "metadata": {},
   "source": [
    "#### Converting the date columns from object datatypes to date datatype and have new colums year, month and time"
   ]
  },
  {
   "cell_type": "code",
   "execution_count": 7,
   "metadata": {},
   "outputs": [],
   "source": [
    "df['Start_Time'] = pd.to_datetime(df['Start_Time'])\n",
    "df['End_Time'] = pd.to_datetime(df['End_Time'])"
   ]
  },
  {
   "cell_type": "code",
   "execution_count": 8,
   "metadata": {},
   "outputs": [],
   "source": [
    "df['year'] = pd.DatetimeIndex(df['Start_Time']).year\n",
    "df['month'] = pd.DatetimeIndex(df['Start_Time']).month\n",
    "df['time'] = pd.DatetimeIndex(df['Start_Time']).time"
   ]
  },
  {
   "cell_type": "code",
   "execution_count": 9,
   "metadata": {},
   "outputs": [],
   "source": [
    "import datetime\n",
    "df['Start_Time']= pd.to_datetime(df['Start_Time'])\n",
    "df['hour']= df['Start_Time'].dt.hour\n",
    "df['year']= df['Start_Time'].dt.year\n",
    "df['month']= df['Start_Time'].dt.month\n",
    "df['week']= df['Start_Time'].dt.week\n",
    "#df['day']= df['Start_Time'].dt.weekday_name\n",
    "df['quarter']= df['Start_Time'].dt.quarter\n",
    "df['time_zone']= df['Start_Time'].dt.tz\n",
    "df['time']= df['Start_Time'].dt.time"
   ]
  },
  {
   "cell_type": "code",
   "execution_count": 10,
   "metadata": {
    "scrolled": true
   },
   "outputs": [
    {
     "name": "stdout",
     "output_type": "stream",
     "text": [
      "'----------------------------------------------------------------------'\n",
      "'No. of Row : 4232398        No. of Columns : 56'\n",
      "'----------------------------------------------------------------------'\n",
      "                             DataType  Missing Values  Unique Values\n",
      "Attribute                                                           \n",
      "ID                             object               0        4232398\n",
      "Source                         object               0              3\n",
      "TMC                           float64         1515981             21\n",
      "Severity                        int64               0              4\n",
      "Start_Time             datetime64[ns]               0        3634447\n",
      "End_Time               datetime64[ns]               0        3755722\n",
      "Start_Lat                     float64               0        1371560\n",
      "Start_Lng                     float64               0        1371251\n",
      "End_Lat                       float64         2716417         587802\n",
      "End_Lng                       float64         2716417         599891\n",
      "Distance(mi)                  float64               0          14619\n",
      "Description                    object               0        2166657\n",
      "Number                        float64         2687856          43868\n",
      "Street                         object               0         210779\n",
      "Side                           object               0              3\n",
      "City                           object               0          12249\n",
      "County                         object               0           1752\n",
      "State                          object               0             49\n",
      "Zipcode                        object            1292         494305\n",
      "Country                        object               0              1\n",
      "Timezone                       object            4615              4\n",
      "Airport_Code                   object            8973           2022\n",
      "Weather_Timestamp              object           62642         616778\n",
      "Temperature(F)                float64           89895            840\n",
      "Wind_Chill(F)                 float64         1895940            984\n",
      "Humidity(%)                   float64           95462            100\n",
      "Pressure(in)                  float64           76378           1041\n",
      "Visibility(mi)                float64           98661             87\n",
      "Wind_Direction                 object           83609             24\n",
      "Wind_Speed(mph)               float64          479311            162\n",
      "Precipitation(in)             float64         2065532            269\n",
      "Weather_Condition              object           98374            131\n",
      "Amenity                          bool               0              2\n",
      "Bump                             bool               0              2\n",
      "Crossing                         bool               0              2\n",
      "Give_Way                         bool               0              2\n",
      "Junction                         bool               0              2\n",
      "No_Exit                          bool               0              2\n",
      "Railway                          bool               0              2\n",
      "Roundabout                       bool               0              2\n",
      "Station                          bool               0              2\n",
      "Stop                             bool               0              2\n",
      "Traffic_Calming                  bool               0              2\n",
      "Traffic_Signal                   bool               0              2\n",
      "Turning_Loop                     bool               0              1\n",
      "Sunrise_Sunset                 object               0              2\n",
      "Civil_Twilight                 object               0              2\n",
      "Nautical_Twilight              object               0              2\n",
      "Astronomical_Twilight          object               0              2\n",
      "year                            int64               0              5\n",
      "month                           int64               0             12\n",
      "time                           object               0          86390\n",
      "hour                            int64               0             24\n",
      "week                            int64               0             53\n",
      "quarter                         int64               0              4\n",
      "time_zone                      object         4232398              0\n",
      "'----------------------------------------------------------------------'\n"
     ]
    }
   ],
   "source": [
    "sanity_check(df)"
   ]
  },
  {
   "cell_type": "markdown",
   "metadata": {},
   "source": [
    "## Top 10 States and Top 10 Cities with most severe accidents"
   ]
  },
  {
   "cell_type": "code",
   "execution_count": 11,
   "metadata": {
    "scrolled": true
   },
   "outputs": [
    {
     "data": {
      "text/plain": [
       "<matplotlib.axes._subplots.AxesSubplot at 0x1555eb580>"
      ]
     },
     "execution_count": 11,
     "metadata": {},
     "output_type": "execute_result"
    },
    {
     "data": {
      "image/png": "[encoded data removed]",
      "text/plain": [
       "<Figure size 432x288 with 1 Axes>"
      ]
     },
     "metadata": {
      "needs_background": "light"
     },
     "output_type": "display_data"
    }
   ],
   "source": [
    "#How many incidences with severity 1,2,3,4; Severity cases 2 are highest\n",
    "import matplotlib.pyplot as plt \n",
    "# plot a histogram  \n",
    "df['Severity'].hist(bins=10) "
   ]
  },
  {
   "cell_type": "code",
   "execution_count": 12,
   "metadata": {},
   "outputs": [
    {
     "data": {
      "text/plain": [
       "<matplotlib.axes._subplots.AxesSubplot at 0x2ef7493d0>"
      ]
     },
     "execution_count": 12,
     "metadata": {},
     "output_type": "execute_result"
    },
    {
     "data": {
      "image/png": "[encoded data removed]",
      "text/plain": [
       "<Figure size 720x360 with 1 Axes>"
      ]
     },
     "metadata": {
      "needs_background": "light"
     },
     "output_type": "display_data"
    }
   ],
   "source": [
    "fig, axes = plt.subplots(1, figsize=(10, 5))\n",
    "plt.title('Top 10 states with most accidents')\n",
    "sns.countplot('State',data=df,order = df['State'].value_counts().iloc[:10].index,palette=sns.color_palette(\"Paired\"))"
   ]
  },
  {
   "cell_type": "code",
   "execution_count": 13,
   "metadata": {},
   "outputs": [
    {
     "data": {
      "text/plain": [
       "<matplotlib.axes._subplots.AxesSubplot at 0x2c3b900d0>"
      ]
     },
     "execution_count": 13,
     "metadata": {},
     "output_type": "execute_result"
    },
    {
     "data": {
      "image/png": "[encoded data removed]",
      "text/plain": [
       "<Figure size 720x360 with 1 Axes>"
      ]
     },
     "metadata": {
      "needs_background": "light"
     },
     "output_type": "display_data"
    }
   ],
   "source": [
    "fig, axes = plt.subplots(1, figsize=(10, 5))\n",
    "plt.title('Top 10 cities with most accidents')\n",
    "sns.countplot('City',data=df,order = df['City'].value_counts().iloc[:10].index,palette=sns.color_palette(\"Paired\"))"
   ]
  },
  {
   "cell_type": "markdown",
   "metadata": {},
   "source": [
    "## Accidents trends on time series"
   ]
  },
  {
   "cell_type": "code",
   "execution_count": 14,
   "metadata": {},
   "outputs": [
    {
     "data": {
      "text/plain": [
       "<matplotlib.axes._subplots.AxesSubplot at 0x223f72fd0>"
      ]
     },
     "execution_count": 14,
     "metadata": {},
     "output_type": "execute_result"
    },
    {
     "data": {
      "image/png": "[encoded data removed]",
      "text/plain": [
       "<Figure size 720x360 with 1 Axes>"
      ]
     },
     "metadata": {
      "needs_background": "light"
     },
     "output_type": "display_data"
    }
   ],
   "source": [
    "fig, axes = plt.subplots(1, figsize=(10, 5))\n",
    "plt.title('Accident rates over the year')\n",
    "sns.countplot('year',data=df,order = df['year'].value_counts().index,palette=sns.color_palette(\"Paired\"))"
   ]
  },
  {
   "cell_type": "code",
   "execution_count": 15,
   "metadata": {},
   "outputs": [
    {
     "data": {
      "text/plain": [
       "<seaborn.axisgrid.FacetGrid at 0x126c4aac0>"
      ]
     },
     "execution_count": 15,
     "metadata": {},
     "output_type": "execute_result"
    },
    {
     "data": {
      "image/png": "[encoded data removed]",
      "text/plain": [
       "<Figure size 412.3x360 with 1 Axes>"
      ]
     },
     "metadata": {},
     "output_type": "display_data"
    }
   ],
   "source": [
    "import numpy as np\n",
    "import pandas as pd\n",
    "import seaborn as sns\n",
    "sns.set(color_codes=True)\n",
    "\n",
    "\n",
    "\n",
    "x,y = 'year', 'Severity'\n",
    "\n",
    "(df\n",
    ".groupby(x)[y]\n",
    ".value_counts(normalize=True)\n",
    ".mul(100)\n",
    ".rename('percent')\n",
    ".reset_index()\n",
    ".pipe((sns.catplot,'data'), x=x,y='percent',hue=y,kind='bar'))"
   ]
  },
  {
   "cell_type": "code",
   "execution_count": 16,
   "metadata": {},
   "outputs": [
    {
     "data": {
      "text/plain": [
       "<matplotlib.axes._subplots.AxesSubplot at 0x12608a0a0>"
      ]
     },
     "execution_count": 16,
     "metadata": {},
     "output_type": "execute_result"
    },
    {
     "data": {
      "image/png": "[encoded data removed]",
      "text/plain": [
       "<Figure size 432x288 with 1 Axes>"
      ]
     },
     "metadata": {},
     "output_type": "display_data"
    }
   ],
   "source": [
    "df['month'].value_counts(normalize=True).plot(kind='bar')"
   ]
  },
  {
   "cell_type": "code",
   "execution_count": 17,
   "metadata": {},
   "outputs": [
    {
     "data": {
      "text/plain": [
       "<seaborn.axisgrid.FacetGrid at 0x1264c30a0>"
      ]
     },
     "execution_count": 17,
     "metadata": {},
     "output_type": "execute_result"
    },
    {
     "data": {
      "image/png": "[encoded data removed]",
      "text/plain": [
       "<Figure size 412.3x360 with 1 Axes>"
      ]
     },
     "metadata": {},
     "output_type": "display_data"
    }
   ],
   "source": [
    "import numpy as np\n",
    "import pandas as pd\n",
    "import seaborn as sns\n",
    "sns.set(color_codes=True)\n",
    "\n",
    "\n",
    "\n",
    "x,y = 'month', 'Severity'\n",
    "\n",
    "(df\n",
    ".groupby(x)[y]\n",
    ".value_counts(normalize=True)\n",
    ".mul(100)\n",
    ".rename('percent')\n",
    ".reset_index()\n",
    ".pipe((sns.catplot,'data'), x=x,y='percent',hue=y,kind='bar'))"
   ]
  },
  {
   "cell_type": "code",
   "execution_count": 18,
   "metadata": {},
   "outputs": [
    {
     "data": {
      "text/plain": [
       "<seaborn.axisgrid.FacetGrid at 0x1264bc580>"
      ]
     },
     "execution_count": 18,
     "metadata": {},
     "output_type": "execute_result"
    },
    {
     "data": {
      "image/png": "[encoded data removed]",
      "text/plain": [
       "<Figure size 412.3x360 with 1 Axes>"
      ]
     },
     "metadata": {},
     "output_type": "display_data"
    }
   ],
   "source": [
    "import numpy as np\n",
    "import pandas as pd\n",
    "import seaborn as sns\n",
    "sns.set(color_codes=True)\n",
    "\n",
    "\n",
    "\n",
    "x,y = 'hour', 'Severity'\n",
    "\n",
    "(df\n",
    ".groupby(x)[y]\n",
    ".value_counts(normalize=True)\n",
    ".mul(100)\n",
    ".rename('percent')\n",
    ".reset_index()\n",
    ".pipe((sns.catplot,'data'), x=x,y='percent',hue=y,kind='bar'))"
   ]
  },
  {
   "cell_type": "code",
   "execution_count": 19,
   "metadata": {},
   "outputs": [
    {
     "data": {
      "text/plain": [
       "Text(0, 0.5, 'count of accidents')"
      ]
     },
     "execution_count": 19,
     "metadata": {},
     "output_type": "execute_result"
    },
    {
     "data": {
      "image/png": "[encoded data removed]",
      "text/plain": [
       "<Figure size 720x360 with 1 Axes>"
      ]
     },
     "metadata": {},
     "output_type": "display_data"
    }
   ],
   "source": [
    "#Graph Shows at which time of the day the accidents are maximum, early morning during the office going time\n",
    "plt.figure(figsize =(10,5))\n",
    "df.groupby(['hour']).size().plot.bar()\n",
    "plt.title('At which hour of day accidents happen')\n",
    "plt.ylabel('count of accidents')"
   ]
  },
  {
   "cell_type": "code",
   "execution_count": 20,
   "metadata": {},
   "outputs": [
    {
     "data": {
      "text/plain": [
       "<matplotlib.axes._subplots.AxesSubplot at 0x1265d20a0>"
      ]
     },
     "execution_count": 20,
     "metadata": {},
     "output_type": "execute_result"
    },
    {
     "data": {
      "image/png": "[encoded data removed]",
      "text/plain": [
       "<Figure size 720x360 with 1 Axes>"
      ]
     },
     "metadata": {},
     "output_type": "display_data"
    }
   ],
   "source": [
    "#When do accidents happen the most \n",
    "plt.figure(figsize =(10,5))\n",
    "df.groupby(['Sunrise_Sunset'])['Severity'].size().sort_values(ascending=False).plot.pie()"
   ]
  },
  {
   "cell_type": "code",
   "execution_count": 21,
   "metadata": {},
   "outputs": [
    {
     "data": {
      "text/plain": [
       "<matplotlib.axes._subplots.AxesSubplot at 0x1277bdd60>"
      ]
     },
     "execution_count": 21,
     "metadata": {},
     "output_type": "execute_result"
    },
    {
     "data": {
      "image/png": "[encoded data removed]",
      "text/plain": [
       "<Figure size 1440x360 with 1 Axes>"
      ]
     },
     "metadata": {},
     "output_type": "display_data"
    }
   ],
   "source": [
    "#How was the weather conditions during the accidents? Mostly clear...\n",
    "plt.figure(figsize =(20,5))\n",
    "df.groupby(['Weather_Condition']).size().sort_values(ascending=False).head(10).plot.bar()"
   ]
  },
  {
   "cell_type": "code",
   "execution_count": 22,
   "metadata": {},
   "outputs": [
    {
     "data": {
      "text/plain": [
       "<matplotlib.axes._subplots.AxesSubplot at 0x127838f10>"
      ]
     },
     "execution_count": 22,
     "metadata": {},
     "output_type": "execute_result"
    },
    {
     "data": {
      "image/png": "[encoded data removed]",
      "text/plain": [
       "<Figure size 864x360 with 1 Axes>"
      ]
     },
     "metadata": {},
     "output_type": "display_data"
    }
   ],
   "source": [
    "#How was the visibility during accidents? Max accidents happened when the visibiilty was >10 miles\n",
    "plt.figure(figsize =(12,5))\n",
    "df.groupby(['Visibility(mi)']).size().sort_values(ascending=False).head(12).plot.bar()"
   ]
  },
  {
   "cell_type": "code",
   "execution_count": 34,
   "metadata": {},
   "outputs": [],
   "source": [
    "cols = [3,4]\n",
    "df.drop(df.columns[cols],axis=1,inplace=True)"
   ]
  },
  {
   "cell_type": "code",
   "execution_count": 35,
   "metadata": {
    "scrolled": true
   },
   "outputs": [
    {
     "data": {
      "text/html": [
       "<div>\n",
       "<style scoped>\n",
       "    .dataframe tbody tr th:only-of-type {\n",
       "        vertical-align: middle;\n",
       "    }\n",
       "\n",
       "    .dataframe tbody tr th {\n",
       "        vertical-align: top;\n",
       "    }\n",
       "\n",
       "    .dataframe thead th {\n",
       "        text-align: right;\n",
       "    }\n",
       "</style>\n",
       "<table border=\"1\" class=\"dataframe\">\n",
       "  <thead>\n",
       "    <tr style=\"text-align: right;\">\n",
       "      <th></th>\n",
       "      <th>Severity</th>\n",
       "      <th>Start_Time</th>\n",
       "      <th>State</th>\n",
       "      <th>Temperature(F)</th>\n",
       "      <th>Wind_Chill(F)</th>\n",
       "      <th>Humidity(%)</th>\n",
       "      <th>Pressure(in)</th>\n",
       "      <th>Visibility(mi)</th>\n",
       "      <th>Wind_Direction</th>\n",
       "      <th>Wind_Speed(mph)</th>\n",
       "      <th>...</th>\n",
       "      <th>Civil_Twilight</th>\n",
       "      <th>Nautical_Twilight</th>\n",
       "      <th>Astronomical_Twilight</th>\n",
       "      <th>year</th>\n",
       "      <th>month</th>\n",
       "      <th>time</th>\n",
       "      <th>hour</th>\n",
       "      <th>week</th>\n",
       "      <th>quarter</th>\n",
       "      <th>time_zone</th>\n",
       "    </tr>\n",
       "  </thead>\n",
       "  <tbody>\n",
       "    <tr>\n",
       "      <th>512217</th>\n",
       "      <td>2</td>\n",
       "      <td>2020-12-31 10:47:49</td>\n",
       "      <td>NY</td>\n",
       "      <td>32.0</td>\n",
       "      <td>23.0</td>\n",
       "      <td>64.0</td>\n",
       "      <td>29.56</td>\n",
       "      <td>10.0</td>\n",
       "      <td>W</td>\n",
       "      <td>13.0</td>\n",
       "      <td>...</td>\n",
       "      <td>Day</td>\n",
       "      <td>Day</td>\n",
       "      <td>Day</td>\n",
       "      <td>2020</td>\n",
       "      <td>12</td>\n",
       "      <td>10:47:49</td>\n",
       "      <td>10</td>\n",
       "      <td>53</td>\n",
       "      <td>4</td>\n",
       "      <td>None</td>\n",
       "    </tr>\n",
       "    <tr>\n",
       "      <th>512218</th>\n",
       "      <td>2</td>\n",
       "      <td>2020-12-31 13:24:43</td>\n",
       "      <td>NY</td>\n",
       "      <td>34.0</td>\n",
       "      <td>27.0</td>\n",
       "      <td>67.0</td>\n",
       "      <td>29.59</td>\n",
       "      <td>10.0</td>\n",
       "      <td>W</td>\n",
       "      <td>9.0</td>\n",
       "      <td>...</td>\n",
       "      <td>Day</td>\n",
       "      <td>Day</td>\n",
       "      <td>Day</td>\n",
       "      <td>2020</td>\n",
       "      <td>12</td>\n",
       "      <td>13:24:43</td>\n",
       "      <td>13</td>\n",
       "      <td>53</td>\n",
       "      <td>4</td>\n",
       "      <td>None</td>\n",
       "    </tr>\n",
       "    <tr>\n",
       "      <th>512219</th>\n",
       "      <td>3</td>\n",
       "      <td>2020-12-31 13:29:34</td>\n",
       "      <td>NY</td>\n",
       "      <td>37.0</td>\n",
       "      <td>30.0</td>\n",
       "      <td>54.0</td>\n",
       "      <td>29.50</td>\n",
       "      <td>10.0</td>\n",
       "      <td>W</td>\n",
       "      <td>9.0</td>\n",
       "      <td>...</td>\n",
       "      <td>Day</td>\n",
       "      <td>Day</td>\n",
       "      <td>Day</td>\n",
       "      <td>2020</td>\n",
       "      <td>12</td>\n",
       "      <td>13:29:34</td>\n",
       "      <td>13</td>\n",
       "      <td>53</td>\n",
       "      <td>4</td>\n",
       "      <td>None</td>\n",
       "    </tr>\n",
       "    <tr>\n",
       "      <th>512220</th>\n",
       "      <td>2</td>\n",
       "      <td>2020-12-31 04:35:33</td>\n",
       "      <td>MA</td>\n",
       "      <td>45.0</td>\n",
       "      <td>37.0</td>\n",
       "      <td>80.0</td>\n",
       "      <td>29.86</td>\n",
       "      <td>10.0</td>\n",
       "      <td>SW</td>\n",
       "      <td>22.0</td>\n",
       "      <td>...</td>\n",
       "      <td>Night</td>\n",
       "      <td>Night</td>\n",
       "      <td>Night</td>\n",
       "      <td>2020</td>\n",
       "      <td>12</td>\n",
       "      <td>04:35:33</td>\n",
       "      <td>4</td>\n",
       "      <td>53</td>\n",
       "      <td>4</td>\n",
       "      <td>None</td>\n",
       "    </tr>\n",
       "    <tr>\n",
       "      <th>512221</th>\n",
       "      <td>2</td>\n",
       "      <td>2020-12-31 05:11:11</td>\n",
       "      <td>MA</td>\n",
       "      <td>45.0</td>\n",
       "      <td>37.0</td>\n",
       "      <td>80.0</td>\n",
       "      <td>29.86</td>\n",
       "      <td>10.0</td>\n",
       "      <td>SW</td>\n",
       "      <td>22.0</td>\n",
       "      <td>...</td>\n",
       "      <td>Night</td>\n",
       "      <td>Night</td>\n",
       "      <td>Night</td>\n",
       "      <td>2020</td>\n",
       "      <td>12</td>\n",
       "      <td>05:11:11</td>\n",
       "      <td>5</td>\n",
       "      <td>53</td>\n",
       "      <td>4</td>\n",
       "      <td>None</td>\n",
       "    </tr>\n",
       "  </tbody>\n",
       "</table>\n",
       "<p>5 rows × 36 columns</p>\n",
       "</div>"
      ],
      "text/plain": [
       "        Severity          Start_Time State  Temperature(F)  Wind_Chill(F)  \\\n",
       "512217         2 2020-12-31 10:47:49    NY            32.0           23.0   \n",
       "512218         2 2020-12-31 13:24:43    NY            34.0           27.0   \n",
       "512219         3 2020-12-31 13:29:34    NY            37.0           30.0   \n",
       "512220         2 2020-12-31 04:35:33    MA            45.0           37.0   \n",
       "512221         2 2020-12-31 05:11:11    MA            45.0           37.0   \n",
       "\n",
       "        Humidity(%)  Pressure(in)  Visibility(mi) Wind_Direction  \\\n",
       "512217         64.0         29.56            10.0              W   \n",
       "512218         67.0         29.59            10.0              W   \n",
       "512219         54.0         29.50            10.0              W   \n",
       "512220         80.0         29.86            10.0             SW   \n",
       "512221         80.0         29.86            10.0             SW   \n",
       "\n",
       "        Wind_Speed(mph)  ...  Civil_Twilight Nautical_Twilight  \\\n",
       "512217             13.0  ...             Day               Day   \n",
       "512218              9.0  ...             Day               Day   \n",
       "512219              9.0  ...             Day               Day   \n",
       "512220             22.0  ...           Night             Night   \n",
       "512221             22.0  ...           Night             Night   \n",
       "\n",
       "        Astronomical_Twilight  year  month      time  hour  week  quarter  \\\n",
       "512217                    Day  2020     12  10:47:49    10    53        4   \n",
       "512218                    Day  2020     12  13:24:43    13    53        4   \n",
       "512219                    Day  2020     12  13:29:34    13    53        4   \n",
       "512220                  Night  2020     12  04:35:33     4    53        4   \n",
       "512221                  Night  2020     12  05:11:11     5    53        4   \n",
       "\n",
       "        time_zone  \n",
       "512217       None  \n",
       "512218       None  \n",
       "512219       None  \n",
       "512220       None  \n",
       "512221       None  \n",
       "\n",
       "[5 rows x 36 columns]"
      ]
     },
     "execution_count": 35,
     "metadata": {},
     "output_type": "execute_result"
    }
   ],
   "source": [
    "df.head()"
   ]
  },
  {
   "cell_type": "code",
   "execution_count": 26,
   "metadata": {},
   "outputs": [],
   "source": [
    "df.drop(df[df['year'] < 2019].index, inplace = True)"
   ]
  },
  {
   "cell_type": "code",
   "execution_count": 24,
   "metadata": {},
   "outputs": [
    {
     "name": "stdout",
     "output_type": "stream",
     "text": [
      "(4232398, 56)\n"
     ]
    }
   ],
   "source": [
    "print(df.shape)"
   ]
  },
  {
   "cell_type": "code",
   "execution_count": 37,
   "metadata": {},
   "outputs": [],
   "source": [
    "df.to_csv('US_Accidents_New.csv')"
   ]
  },
  {
   "cell_type": "code",
   "execution_count": 36,
   "metadata": {},
   "outputs": [
    {
     "name": "stdout",
     "output_type": "stream",
     "text": [
      "'----------------------------------------------------------------------'\n",
      "'No. of Row : 2211789        No. of Columns : 36'\n",
      "'----------------------------------------------------------------------'\n",
      "                             DataType  Missing Values  Unique Values\n",
      "Attribute                                                           \n",
      "Severity                        int64               0              4\n",
      "Start_Time             datetime64[ns]               0        1756329\n",
      "State                          object               0             49\n",
      "Temperature(F)                float64           51060            686\n",
      "Wind_Chill(F)                 float64          192644            964\n",
      "Humidity(%)                   float64           54599            100\n",
      "Pressure(in)                  float64           42075           1020\n",
      "Visibility(mi)                float64           51493             70\n",
      "Wind_Direction                 object           58523             24\n",
      "Wind_Speed(mph)               float64           98605            116\n",
      "Precipitation(in)             float64          286374            199\n",
      "Weather_Condition              object           50769            113\n",
      "Amenity                          bool               0              2\n",
      "Bump                             bool               0              2\n",
      "Crossing                         bool               0              2\n",
      "Give_Way                         bool               0              2\n",
      "Junction                         bool               0              2\n",
      "No_Exit                          bool               0              2\n",
      "Railway                          bool               0              2\n",
      "Roundabout                       bool               0              2\n",
      "Station                          bool               0              2\n",
      "Stop                             bool               0              2\n",
      "Traffic_Calming                  bool               0              2\n",
      "Traffic_Signal                   bool               0              2\n",
      "Turning_Loop                     bool               0              1\n",
      "Sunrise_Sunset                 object               0              2\n",
      "Civil_Twilight                 object               0              2\n",
      "Nautical_Twilight              object               0              2\n",
      "Astronomical_Twilight          object               0              2\n",
      "year                            int64               0              2\n",
      "month                           int64               0             12\n",
      "time                           object               0          86085\n",
      "hour                            int64               0             24\n",
      "week                            int64               0             53\n",
      "quarter                         int64               0              4\n",
      "time_zone                      object         2211789              0\n",
      "'----------------------------------------------------------------------'\n"
     ]
    }
   ],
   "source": [
    "sanity_check(df)"
   ]
  },
  {
   "cell_type": "code",
   "execution_count": null,
   "metadata": {},
   "outputs": [],
   "source": []
  }
 ],
 "metadata": {
  "kernelspec": {
   "display_name": "Python 3",
   "language": "python",
   "name": "python3"
  },
  "language_info": {
   "codemirror_mode": {
    "name": "ipython",
    "version": 3
   },
   "file_extension": ".py",
   "mimetype": "text/x-python",
   "name": "python",
   "nbconvert_exporter": "python",
   "pygments_lexer": "ipython3",
   "version": "3.8.3"
  }
 },
 "nbformat": 4,
 "nbformat_minor": 4
}
